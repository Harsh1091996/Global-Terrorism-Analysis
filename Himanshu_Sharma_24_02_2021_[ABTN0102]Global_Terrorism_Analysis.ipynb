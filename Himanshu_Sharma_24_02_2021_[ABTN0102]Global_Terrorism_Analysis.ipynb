{
  "nbformat": 4,
  "nbformat_minor": 0,
  "metadata": {
    "colab": {
      "name": "Himanshu Sharma - 24/02/2021 [ABTN0102]Global-Terrorism-Analysis.ipynb",
      "provenance": [],
      "collapsed_sections": [],
      "mount_file_id": "1orqk4RhTuPzTZjzbzetg2IdA94Ho2d08",
      "authorship_tag": "ABX9TyPxHIExMQ/isZO3c9nptiMf",
      "include_colab_link": true
    },
    "kernelspec": {
      "name": "python3",
      "display_name": "Python 3"
    }
  },
  "cells": [
    {
      "cell_type": "markdown",
      "metadata": {
        "id": "view-in-github",
        "colab_type": "text"
      },
      "source": [
        "<a href=\"https://colab.research.google.com/github/Harsh1091996/Global-Terrorism-Analysis/blob/main/Himanshu_Sharma_24_02_2021_%5BABTN0102%5DGlobal_Terrorism_Analysis.ipynb\" target=\"_parent\"><img src=\"https://colab.research.google.com/assets/colab-badge.svg\" alt=\"Open In Colab\"/></a>"
      ]
    },
    {
      "cell_type": "markdown",
      "metadata": {
        "id": "gZxiV-Yi6V7R"
      },
      "source": [
        "## <b> The Global Terrorism Database (GTD) is an open-source database including information on terrorist attacks around the world from 1970 through 2017. The GTD includes systematic data on domestic as well as international terrorist incidents that have occurred during this time period and now includes more than 180,000 attacks. The database is maintained by researchers at the National Consortium for the Study of Terrorism and Responses to Terrorism (START), headquartered at the University of Maryland.</b>\r\n",
        "\r\n",
        "# <b> Explore and analyze the data to discover key findings pertaining to terrorist activities. </b>"
      ]
    },
    {
      "cell_type": "markdown",
      "metadata": {
        "id": "t8HzK7eP6LM5"
      },
      "source": [
        "Abstract: \r\n",
        "With details on various dimensions of each attack, the GTD familiarizes analysts, policymakers, scholars, and journalists with patterns of terrorism. The GTD defines terrorist attacks as: The threatened or actual use of illegal force and violence by a non-state actor to attain a political, economic, religious, or social goal through fear, coercion, or intimidation."
      ]
    },
    {
      "cell_type": "code",
      "metadata": {
        "id": "Mn365z7BvmHs"
      },
      "source": [
        "import pandas as pd\r\n",
        "import numpy as np\r\n",
        "import matplotlib.pyplot as plt\r\n",
        "import seaborn as sns\r\n",
        "%matplotlib inline"
      ],
      "execution_count": 25,
      "outputs": []
    },
    {
      "cell_type": "code",
      "metadata": {
        "colab": {
          "base_uri": "https://localhost:8080/"
        },
        "id": "TPOwsXEhvozb",
        "outputId": "552200ed-6020-4b96-c0c6-99237549b1e4"
      },
      "source": [
        "global_terror=pd.read_csv('/content/drive/MyDrive/AlmaBetter/Capstone_Project/Global Terrorism Data.csv',encoding='ISO-8859-1')"
      ],
      "execution_count": 3,
      "outputs": [
        {
          "output_type": "stream",
          "text": [
            "/usr/local/lib/python3.7/dist-packages/IPython/core/interactiveshell.py:2718: DtypeWarning: Columns (4,6,31,33,61,62,63,76,79,90,92,94,96,114,115,121) have mixed types.Specify dtype option on import or set low_memory=False.\n",
            "  interactivity=interactivity, compiler=compiler, result=result)\n"
          ],
          "name": "stderr"
        }
      ]
    },
    {
      "cell_type": "code",
      "metadata": {
        "colab": {
          "base_uri": "https://localhost:8080/",
          "height": 372
        },
        "id": "8notLw_wwEWD",
        "outputId": "5ebd5fb0-b9b4-42d9-eed3-e1480562a5ff"
      },
      "source": [
        "global_terror.head()"
      ],
      "execution_count": 5,
      "outputs": [
        {
          "output_type": "execute_result",
          "data": {
            "text/html": [
              "<div>\n",
              "<style scoped>\n",
              "    .dataframe tbody tr th:only-of-type {\n",
              "        vertical-align: middle;\n",
              "    }\n",
              "\n",
              "    .dataframe tbody tr th {\n",
              "        vertical-align: top;\n",
              "    }\n",
              "\n",
              "    .dataframe thead th {\n",
              "        text-align: right;\n",
              "    }\n",
              "</style>\n",
              "<table border=\"1\" class=\"dataframe\">\n",
              "  <thead>\n",
              "    <tr style=\"text-align: right;\">\n",
              "      <th></th>\n",
              "      <th>eventid</th>\n",
              "      <th>iyear</th>\n",
              "      <th>imonth</th>\n",
              "      <th>iday</th>\n",
              "      <th>approxdate</th>\n",
              "      <th>extended</th>\n",
              "      <th>resolution</th>\n",
              "      <th>country</th>\n",
              "      <th>country_txt</th>\n",
              "      <th>region</th>\n",
              "      <th>region_txt</th>\n",
              "      <th>provstate</th>\n",
              "      <th>city</th>\n",
              "      <th>latitude</th>\n",
              "      <th>longitude</th>\n",
              "      <th>specificity</th>\n",
              "      <th>vicinity</th>\n",
              "      <th>location</th>\n",
              "      <th>summary</th>\n",
              "      <th>crit1</th>\n",
              "      <th>crit2</th>\n",
              "      <th>crit3</th>\n",
              "      <th>doubtterr</th>\n",
              "      <th>alternative</th>\n",
              "      <th>alternative_txt</th>\n",
              "      <th>multiple</th>\n",
              "      <th>success</th>\n",
              "      <th>suicide</th>\n",
              "      <th>attacktype1</th>\n",
              "      <th>attacktype1_txt</th>\n",
              "      <th>attacktype2</th>\n",
              "      <th>attacktype2_txt</th>\n",
              "      <th>attacktype3</th>\n",
              "      <th>attacktype3_txt</th>\n",
              "      <th>targtype1</th>\n",
              "      <th>targtype1_txt</th>\n",
              "      <th>targsubtype1</th>\n",
              "      <th>targsubtype1_txt</th>\n",
              "      <th>corp1</th>\n",
              "      <th>target1</th>\n",
              "      <th>...</th>\n",
              "      <th>weapsubtype4</th>\n",
              "      <th>weapsubtype4_txt</th>\n",
              "      <th>weapdetail</th>\n",
              "      <th>nkill</th>\n",
              "      <th>nkillus</th>\n",
              "      <th>nkillter</th>\n",
              "      <th>nwound</th>\n",
              "      <th>nwoundus</th>\n",
              "      <th>nwoundte</th>\n",
              "      <th>property</th>\n",
              "      <th>propextent</th>\n",
              "      <th>propextent_txt</th>\n",
              "      <th>propvalue</th>\n",
              "      <th>propcomment</th>\n",
              "      <th>ishostkid</th>\n",
              "      <th>nhostkid</th>\n",
              "      <th>nhostkidus</th>\n",
              "      <th>nhours</th>\n",
              "      <th>ndays</th>\n",
              "      <th>divert</th>\n",
              "      <th>kidhijcountry</th>\n",
              "      <th>ransom</th>\n",
              "      <th>ransomamt</th>\n",
              "      <th>ransomamtus</th>\n",
              "      <th>ransompaid</th>\n",
              "      <th>ransompaidus</th>\n",
              "      <th>ransomnote</th>\n",
              "      <th>hostkidoutcome</th>\n",
              "      <th>hostkidoutcome_txt</th>\n",
              "      <th>nreleased</th>\n",
              "      <th>addnotes</th>\n",
              "      <th>scite1</th>\n",
              "      <th>scite2</th>\n",
              "      <th>scite3</th>\n",
              "      <th>dbsource</th>\n",
              "      <th>INT_LOG</th>\n",
              "      <th>INT_IDEO</th>\n",
              "      <th>INT_MISC</th>\n",
              "      <th>INT_ANY</th>\n",
              "      <th>related</th>\n",
              "    </tr>\n",
              "  </thead>\n",
              "  <tbody>\n",
              "    <tr>\n",
              "      <th>0</th>\n",
              "      <td>197000000001</td>\n",
              "      <td>1970</td>\n",
              "      <td>7</td>\n",
              "      <td>2</td>\n",
              "      <td>NaN</td>\n",
              "      <td>0</td>\n",
              "      <td>NaN</td>\n",
              "      <td>58</td>\n",
              "      <td>Dominican Republic</td>\n",
              "      <td>2</td>\n",
              "      <td>Central America &amp; Caribbean</td>\n",
              "      <td>NaN</td>\n",
              "      <td>Santo Domingo</td>\n",
              "      <td>18.456792</td>\n",
              "      <td>-69.951164</td>\n",
              "      <td>1.0</td>\n",
              "      <td>0</td>\n",
              "      <td>NaN</td>\n",
              "      <td>NaN</td>\n",
              "      <td>1</td>\n",
              "      <td>1</td>\n",
              "      <td>1</td>\n",
              "      <td>0.0</td>\n",
              "      <td>NaN</td>\n",
              "      <td>NaN</td>\n",
              "      <td>0.0</td>\n",
              "      <td>1</td>\n",
              "      <td>0</td>\n",
              "      <td>1</td>\n",
              "      <td>Assassination</td>\n",
              "      <td>NaN</td>\n",
              "      <td>NaN</td>\n",
              "      <td>NaN</td>\n",
              "      <td>NaN</td>\n",
              "      <td>14</td>\n",
              "      <td>Private Citizens &amp; Property</td>\n",
              "      <td>68.0</td>\n",
              "      <td>Named Civilian</td>\n",
              "      <td>NaN</td>\n",
              "      <td>Julio Guzman</td>\n",
              "      <td>...</td>\n",
              "      <td>NaN</td>\n",
              "      <td>NaN</td>\n",
              "      <td>NaN</td>\n",
              "      <td>1.0</td>\n",
              "      <td>NaN</td>\n",
              "      <td>NaN</td>\n",
              "      <td>0.0</td>\n",
              "      <td>NaN</td>\n",
              "      <td>NaN</td>\n",
              "      <td>0</td>\n",
              "      <td>NaN</td>\n",
              "      <td>NaN</td>\n",
              "      <td>NaN</td>\n",
              "      <td>NaN</td>\n",
              "      <td>0.0</td>\n",
              "      <td>NaN</td>\n",
              "      <td>NaN</td>\n",
              "      <td>NaN</td>\n",
              "      <td>NaN</td>\n",
              "      <td>NaN</td>\n",
              "      <td>NaN</td>\n",
              "      <td>0.0</td>\n",
              "      <td>NaN</td>\n",
              "      <td>NaN</td>\n",
              "      <td>NaN</td>\n",
              "      <td>NaN</td>\n",
              "      <td>NaN</td>\n",
              "      <td>NaN</td>\n",
              "      <td>NaN</td>\n",
              "      <td>NaN</td>\n",
              "      <td>NaN</td>\n",
              "      <td>NaN</td>\n",
              "      <td>NaN</td>\n",
              "      <td>NaN</td>\n",
              "      <td>PGIS</td>\n",
              "      <td>0</td>\n",
              "      <td>0</td>\n",
              "      <td>0</td>\n",
              "      <td>0</td>\n",
              "      <td>NaN</td>\n",
              "    </tr>\n",
              "    <tr>\n",
              "      <th>1</th>\n",
              "      <td>197000000002</td>\n",
              "      <td>1970</td>\n",
              "      <td>0</td>\n",
              "      <td>0</td>\n",
              "      <td>NaN</td>\n",
              "      <td>0</td>\n",
              "      <td>NaN</td>\n",
              "      <td>130</td>\n",
              "      <td>Mexico</td>\n",
              "      <td>1</td>\n",
              "      <td>North America</td>\n",
              "      <td>Federal</td>\n",
              "      <td>Mexico city</td>\n",
              "      <td>19.371887</td>\n",
              "      <td>-99.086624</td>\n",
              "      <td>1.0</td>\n",
              "      <td>0</td>\n",
              "      <td>NaN</td>\n",
              "      <td>NaN</td>\n",
              "      <td>1</td>\n",
              "      <td>1</td>\n",
              "      <td>1</td>\n",
              "      <td>0.0</td>\n",
              "      <td>NaN</td>\n",
              "      <td>NaN</td>\n",
              "      <td>0.0</td>\n",
              "      <td>1</td>\n",
              "      <td>0</td>\n",
              "      <td>6</td>\n",
              "      <td>Hostage Taking (Kidnapping)</td>\n",
              "      <td>NaN</td>\n",
              "      <td>NaN</td>\n",
              "      <td>NaN</td>\n",
              "      <td>NaN</td>\n",
              "      <td>7</td>\n",
              "      <td>Government (Diplomatic)</td>\n",
              "      <td>45.0</td>\n",
              "      <td>Diplomatic Personnel (outside of embassy, cons...</td>\n",
              "      <td>Belgian Ambassador Daughter</td>\n",
              "      <td>Nadine Chaval, daughter</td>\n",
              "      <td>...</td>\n",
              "      <td>NaN</td>\n",
              "      <td>NaN</td>\n",
              "      <td>NaN</td>\n",
              "      <td>0.0</td>\n",
              "      <td>NaN</td>\n",
              "      <td>NaN</td>\n",
              "      <td>0.0</td>\n",
              "      <td>NaN</td>\n",
              "      <td>NaN</td>\n",
              "      <td>0</td>\n",
              "      <td>NaN</td>\n",
              "      <td>NaN</td>\n",
              "      <td>NaN</td>\n",
              "      <td>NaN</td>\n",
              "      <td>1.0</td>\n",
              "      <td>1.0</td>\n",
              "      <td>0.0</td>\n",
              "      <td>NaN</td>\n",
              "      <td>NaN</td>\n",
              "      <td>NaN</td>\n",
              "      <td>Mexico</td>\n",
              "      <td>1.0</td>\n",
              "      <td>800000.0</td>\n",
              "      <td>NaN</td>\n",
              "      <td>NaN</td>\n",
              "      <td>NaN</td>\n",
              "      <td>NaN</td>\n",
              "      <td>NaN</td>\n",
              "      <td>NaN</td>\n",
              "      <td>NaN</td>\n",
              "      <td>NaN</td>\n",
              "      <td>NaN</td>\n",
              "      <td>NaN</td>\n",
              "      <td>NaN</td>\n",
              "      <td>PGIS</td>\n",
              "      <td>0</td>\n",
              "      <td>1</td>\n",
              "      <td>1</td>\n",
              "      <td>1</td>\n",
              "      <td>NaN</td>\n",
              "    </tr>\n",
              "    <tr>\n",
              "      <th>2</th>\n",
              "      <td>197001000001</td>\n",
              "      <td>1970</td>\n",
              "      <td>1</td>\n",
              "      <td>0</td>\n",
              "      <td>NaN</td>\n",
              "      <td>0</td>\n",
              "      <td>NaN</td>\n",
              "      <td>160</td>\n",
              "      <td>Philippines</td>\n",
              "      <td>5</td>\n",
              "      <td>Southeast Asia</td>\n",
              "      <td>Tarlac</td>\n",
              "      <td>Unknown</td>\n",
              "      <td>15.478598</td>\n",
              "      <td>120.599741</td>\n",
              "      <td>4.0</td>\n",
              "      <td>0</td>\n",
              "      <td>NaN</td>\n",
              "      <td>NaN</td>\n",
              "      <td>1</td>\n",
              "      <td>1</td>\n",
              "      <td>1</td>\n",
              "      <td>0.0</td>\n",
              "      <td>NaN</td>\n",
              "      <td>NaN</td>\n",
              "      <td>0.0</td>\n",
              "      <td>1</td>\n",
              "      <td>0</td>\n",
              "      <td>1</td>\n",
              "      <td>Assassination</td>\n",
              "      <td>NaN</td>\n",
              "      <td>NaN</td>\n",
              "      <td>NaN</td>\n",
              "      <td>NaN</td>\n",
              "      <td>10</td>\n",
              "      <td>Journalists &amp; Media</td>\n",
              "      <td>54.0</td>\n",
              "      <td>Radio Journalist/Staff/Facility</td>\n",
              "      <td>Voice of America</td>\n",
              "      <td>Employee</td>\n",
              "      <td>...</td>\n",
              "      <td>NaN</td>\n",
              "      <td>NaN</td>\n",
              "      <td>NaN</td>\n",
              "      <td>1.0</td>\n",
              "      <td>NaN</td>\n",
              "      <td>NaN</td>\n",
              "      <td>0.0</td>\n",
              "      <td>NaN</td>\n",
              "      <td>NaN</td>\n",
              "      <td>0</td>\n",
              "      <td>NaN</td>\n",
              "      <td>NaN</td>\n",
              "      <td>NaN</td>\n",
              "      <td>NaN</td>\n",
              "      <td>0.0</td>\n",
              "      <td>NaN</td>\n",
              "      <td>NaN</td>\n",
              "      <td>NaN</td>\n",
              "      <td>NaN</td>\n",
              "      <td>NaN</td>\n",
              "      <td>NaN</td>\n",
              "      <td>0.0</td>\n",
              "      <td>NaN</td>\n",
              "      <td>NaN</td>\n",
              "      <td>NaN</td>\n",
              "      <td>NaN</td>\n",
              "      <td>NaN</td>\n",
              "      <td>NaN</td>\n",
              "      <td>NaN</td>\n",
              "      <td>NaN</td>\n",
              "      <td>NaN</td>\n",
              "      <td>NaN</td>\n",
              "      <td>NaN</td>\n",
              "      <td>NaN</td>\n",
              "      <td>PGIS</td>\n",
              "      <td>-9</td>\n",
              "      <td>-9</td>\n",
              "      <td>1</td>\n",
              "      <td>1</td>\n",
              "      <td>NaN</td>\n",
              "    </tr>\n",
              "    <tr>\n",
              "      <th>3</th>\n",
              "      <td>197001000002</td>\n",
              "      <td>1970</td>\n",
              "      <td>1</td>\n",
              "      <td>0</td>\n",
              "      <td>NaN</td>\n",
              "      <td>0</td>\n",
              "      <td>NaN</td>\n",
              "      <td>78</td>\n",
              "      <td>Greece</td>\n",
              "      <td>8</td>\n",
              "      <td>Western Europe</td>\n",
              "      <td>Attica</td>\n",
              "      <td>Athens</td>\n",
              "      <td>37.997490</td>\n",
              "      <td>23.762728</td>\n",
              "      <td>1.0</td>\n",
              "      <td>0</td>\n",
              "      <td>NaN</td>\n",
              "      <td>NaN</td>\n",
              "      <td>1</td>\n",
              "      <td>1</td>\n",
              "      <td>1</td>\n",
              "      <td>0.0</td>\n",
              "      <td>NaN</td>\n",
              "      <td>NaN</td>\n",
              "      <td>0.0</td>\n",
              "      <td>1</td>\n",
              "      <td>0</td>\n",
              "      <td>3</td>\n",
              "      <td>Bombing/Explosion</td>\n",
              "      <td>NaN</td>\n",
              "      <td>NaN</td>\n",
              "      <td>NaN</td>\n",
              "      <td>NaN</td>\n",
              "      <td>7</td>\n",
              "      <td>Government (Diplomatic)</td>\n",
              "      <td>46.0</td>\n",
              "      <td>Embassy/Consulate</td>\n",
              "      <td>NaN</td>\n",
              "      <td>U.S. Embassy</td>\n",
              "      <td>...</td>\n",
              "      <td>NaN</td>\n",
              "      <td>NaN</td>\n",
              "      <td>Explosive</td>\n",
              "      <td>NaN</td>\n",
              "      <td>NaN</td>\n",
              "      <td>NaN</td>\n",
              "      <td>NaN</td>\n",
              "      <td>NaN</td>\n",
              "      <td>NaN</td>\n",
              "      <td>1</td>\n",
              "      <td>NaN</td>\n",
              "      <td>NaN</td>\n",
              "      <td>NaN</td>\n",
              "      <td>NaN</td>\n",
              "      <td>0.0</td>\n",
              "      <td>NaN</td>\n",
              "      <td>NaN</td>\n",
              "      <td>NaN</td>\n",
              "      <td>NaN</td>\n",
              "      <td>NaN</td>\n",
              "      <td>NaN</td>\n",
              "      <td>0.0</td>\n",
              "      <td>NaN</td>\n",
              "      <td>NaN</td>\n",
              "      <td>NaN</td>\n",
              "      <td>NaN</td>\n",
              "      <td>NaN</td>\n",
              "      <td>NaN</td>\n",
              "      <td>NaN</td>\n",
              "      <td>NaN</td>\n",
              "      <td>NaN</td>\n",
              "      <td>NaN</td>\n",
              "      <td>NaN</td>\n",
              "      <td>NaN</td>\n",
              "      <td>PGIS</td>\n",
              "      <td>-9</td>\n",
              "      <td>-9</td>\n",
              "      <td>1</td>\n",
              "      <td>1</td>\n",
              "      <td>NaN</td>\n",
              "    </tr>\n",
              "    <tr>\n",
              "      <th>4</th>\n",
              "      <td>197001000003</td>\n",
              "      <td>1970</td>\n",
              "      <td>1</td>\n",
              "      <td>0</td>\n",
              "      <td>NaN</td>\n",
              "      <td>0</td>\n",
              "      <td>NaN</td>\n",
              "      <td>101</td>\n",
              "      <td>Japan</td>\n",
              "      <td>4</td>\n",
              "      <td>East Asia</td>\n",
              "      <td>Fukouka</td>\n",
              "      <td>Fukouka</td>\n",
              "      <td>33.580412</td>\n",
              "      <td>130.396361</td>\n",
              "      <td>1.0</td>\n",
              "      <td>0</td>\n",
              "      <td>NaN</td>\n",
              "      <td>NaN</td>\n",
              "      <td>1</td>\n",
              "      <td>1</td>\n",
              "      <td>1</td>\n",
              "      <td>-9.0</td>\n",
              "      <td>NaN</td>\n",
              "      <td>NaN</td>\n",
              "      <td>0.0</td>\n",
              "      <td>1</td>\n",
              "      <td>0</td>\n",
              "      <td>7</td>\n",
              "      <td>Facility/Infrastructure Attack</td>\n",
              "      <td>NaN</td>\n",
              "      <td>NaN</td>\n",
              "      <td>NaN</td>\n",
              "      <td>NaN</td>\n",
              "      <td>7</td>\n",
              "      <td>Government (Diplomatic)</td>\n",
              "      <td>46.0</td>\n",
              "      <td>Embassy/Consulate</td>\n",
              "      <td>NaN</td>\n",
              "      <td>U.S. Consulate</td>\n",
              "      <td>...</td>\n",
              "      <td>NaN</td>\n",
              "      <td>NaN</td>\n",
              "      <td>Incendiary</td>\n",
              "      <td>NaN</td>\n",
              "      <td>NaN</td>\n",
              "      <td>NaN</td>\n",
              "      <td>NaN</td>\n",
              "      <td>NaN</td>\n",
              "      <td>NaN</td>\n",
              "      <td>1</td>\n",
              "      <td>NaN</td>\n",
              "      <td>NaN</td>\n",
              "      <td>NaN</td>\n",
              "      <td>NaN</td>\n",
              "      <td>0.0</td>\n",
              "      <td>NaN</td>\n",
              "      <td>NaN</td>\n",
              "      <td>NaN</td>\n",
              "      <td>NaN</td>\n",
              "      <td>NaN</td>\n",
              "      <td>NaN</td>\n",
              "      <td>0.0</td>\n",
              "      <td>NaN</td>\n",
              "      <td>NaN</td>\n",
              "      <td>NaN</td>\n",
              "      <td>NaN</td>\n",
              "      <td>NaN</td>\n",
              "      <td>NaN</td>\n",
              "      <td>NaN</td>\n",
              "      <td>NaN</td>\n",
              "      <td>NaN</td>\n",
              "      <td>NaN</td>\n",
              "      <td>NaN</td>\n",
              "      <td>NaN</td>\n",
              "      <td>PGIS</td>\n",
              "      <td>-9</td>\n",
              "      <td>-9</td>\n",
              "      <td>1</td>\n",
              "      <td>1</td>\n",
              "      <td>NaN</td>\n",
              "    </tr>\n",
              "  </tbody>\n",
              "</table>\n",
              "<p>5 rows × 135 columns</p>\n",
              "</div>"
            ],
            "text/plain": [
              "        eventid  iyear  imonth  iday  ... INT_IDEO  INT_MISC INT_ANY  related\n",
              "0  197000000001   1970       7     2  ...        0         0       0      NaN\n",
              "1  197000000002   1970       0     0  ...        1         1       1      NaN\n",
              "2  197001000001   1970       1     0  ...       -9         1       1      NaN\n",
              "3  197001000002   1970       1     0  ...       -9         1       1      NaN\n",
              "4  197001000003   1970       1     0  ...       -9         1       1      NaN\n",
              "\n",
              "[5 rows x 135 columns]"
            ]
          },
          "metadata": {
            "tags": []
          },
          "execution_count": 5
        }
      ]
    },
    {
      "cell_type": "markdown",
      "metadata": {
        "id": "rC8afWJuop1U"
      },
      "source": [
        "# Renaming all columns according to our convinience "
      ]
    },
    {
      "cell_type": "code",
      "metadata": {
        "id": "gCtx4koHzIZf"
      },
      "source": [
        "global_terror.rename(columns={'iyear':'Year','imonth':'Month','city':'City',\r\n",
        "                   'iday':'Day','country':'Country_Code','country_txt':'Country_Name','region':'No_of_regions','region_txt':'Region',\r\n",
        "                   'attacktype1_txt':'AttackType','target1':'Target','nkill':'Killed',\r\n",
        "                   'nwound':'Wounded','summary':'Summary','gname':'Group',\r\n",
        "                   'targtype1_txt':'Target_type','weaptype1_txt':'Weapon_type',\r\n",
        "                   'motive':'Motive'},inplace=True)\r\n"
      ],
      "execution_count": 6,
      "outputs": []
    },
    {
      "cell_type": "code",
      "metadata": {
        "id": "yKcNkv6w99ea"
      },
      "source": [
        "#Introducing new column i.e Casualities\r\n",
        "global_terror['Casualities'] = global_terror.Killed + global_terror.Wounded\r\n",
        "global_terror=global_terror[['eventid','Year','Month','Day','Country_Code','Country_Name','extended','resolution','No_of_regions','Region','provstate','City','latitude',\r\n",
        "                             'longitude','AttackType','Killed','Wounded','Casualities',\r\n",
        "                             'Target','Group','Target_type','Weapon_type','ishostkid','Summary']]"
      ],
      "execution_count": 7,
      "outputs": []
    },
    {
      "cell_type": "code",
      "metadata": {
        "colab": {
          "base_uri": "https://localhost:8080/",
          "height": 360
        },
        "id": "1S1VTKDEnU2s",
        "outputId": "09e5dd4a-0e87-4d05-afe1-3efaf9503ef8"
      },
      "source": [
        "global_terror.head()"
      ],
      "execution_count": 8,
      "outputs": [
        {
          "output_type": "execute_result",
          "data": {
            "text/html": [
              "<div>\n",
              "<style scoped>\n",
              "    .dataframe tbody tr th:only-of-type {\n",
              "        vertical-align: middle;\n",
              "    }\n",
              "\n",
              "    .dataframe tbody tr th {\n",
              "        vertical-align: top;\n",
              "    }\n",
              "\n",
              "    .dataframe thead th {\n",
              "        text-align: right;\n",
              "    }\n",
              "</style>\n",
              "<table border=\"1\" class=\"dataframe\">\n",
              "  <thead>\n",
              "    <tr style=\"text-align: right;\">\n",
              "      <th></th>\n",
              "      <th>eventid</th>\n",
              "      <th>Year</th>\n",
              "      <th>Month</th>\n",
              "      <th>Day</th>\n",
              "      <th>Country_Code</th>\n",
              "      <th>Country_Name</th>\n",
              "      <th>extended</th>\n",
              "      <th>resolution</th>\n",
              "      <th>No_of_regions</th>\n",
              "      <th>Region</th>\n",
              "      <th>provstate</th>\n",
              "      <th>City</th>\n",
              "      <th>latitude</th>\n",
              "      <th>longitude</th>\n",
              "      <th>AttackType</th>\n",
              "      <th>Killed</th>\n",
              "      <th>Wounded</th>\n",
              "      <th>Casualities</th>\n",
              "      <th>Target</th>\n",
              "      <th>Group</th>\n",
              "      <th>Target_type</th>\n",
              "      <th>Weapon_type</th>\n",
              "      <th>ishostkid</th>\n",
              "      <th>Summary</th>\n",
              "    </tr>\n",
              "  </thead>\n",
              "  <tbody>\n",
              "    <tr>\n",
              "      <th>0</th>\n",
              "      <td>197000000001</td>\n",
              "      <td>1970</td>\n",
              "      <td>7</td>\n",
              "      <td>2</td>\n",
              "      <td>58</td>\n",
              "      <td>Dominican Republic</td>\n",
              "      <td>0</td>\n",
              "      <td>NaN</td>\n",
              "      <td>2</td>\n",
              "      <td>Central America &amp; Caribbean</td>\n",
              "      <td>NaN</td>\n",
              "      <td>Santo Domingo</td>\n",
              "      <td>18.456792</td>\n",
              "      <td>-69.951164</td>\n",
              "      <td>Assassination</td>\n",
              "      <td>1.0</td>\n",
              "      <td>0.0</td>\n",
              "      <td>1.0</td>\n",
              "      <td>Julio Guzman</td>\n",
              "      <td>MANO-D</td>\n",
              "      <td>Private Citizens &amp; Property</td>\n",
              "      <td>Unknown</td>\n",
              "      <td>0.0</td>\n",
              "      <td>NaN</td>\n",
              "    </tr>\n",
              "    <tr>\n",
              "      <th>1</th>\n",
              "      <td>197000000002</td>\n",
              "      <td>1970</td>\n",
              "      <td>0</td>\n",
              "      <td>0</td>\n",
              "      <td>130</td>\n",
              "      <td>Mexico</td>\n",
              "      <td>0</td>\n",
              "      <td>NaN</td>\n",
              "      <td>1</td>\n",
              "      <td>North America</td>\n",
              "      <td>Federal</td>\n",
              "      <td>Mexico city</td>\n",
              "      <td>19.371887</td>\n",
              "      <td>-99.086624</td>\n",
              "      <td>Hostage Taking (Kidnapping)</td>\n",
              "      <td>0.0</td>\n",
              "      <td>0.0</td>\n",
              "      <td>0.0</td>\n",
              "      <td>Nadine Chaval, daughter</td>\n",
              "      <td>23rd of September Communist League</td>\n",
              "      <td>Government (Diplomatic)</td>\n",
              "      <td>Unknown</td>\n",
              "      <td>1.0</td>\n",
              "      <td>NaN</td>\n",
              "    </tr>\n",
              "    <tr>\n",
              "      <th>2</th>\n",
              "      <td>197001000001</td>\n",
              "      <td>1970</td>\n",
              "      <td>1</td>\n",
              "      <td>0</td>\n",
              "      <td>160</td>\n",
              "      <td>Philippines</td>\n",
              "      <td>0</td>\n",
              "      <td>NaN</td>\n",
              "      <td>5</td>\n",
              "      <td>Southeast Asia</td>\n",
              "      <td>Tarlac</td>\n",
              "      <td>Unknown</td>\n",
              "      <td>15.478598</td>\n",
              "      <td>120.599741</td>\n",
              "      <td>Assassination</td>\n",
              "      <td>1.0</td>\n",
              "      <td>0.0</td>\n",
              "      <td>1.0</td>\n",
              "      <td>Employee</td>\n",
              "      <td>Unknown</td>\n",
              "      <td>Journalists &amp; Media</td>\n",
              "      <td>Unknown</td>\n",
              "      <td>0.0</td>\n",
              "      <td>NaN</td>\n",
              "    </tr>\n",
              "    <tr>\n",
              "      <th>3</th>\n",
              "      <td>197001000002</td>\n",
              "      <td>1970</td>\n",
              "      <td>1</td>\n",
              "      <td>0</td>\n",
              "      <td>78</td>\n",
              "      <td>Greece</td>\n",
              "      <td>0</td>\n",
              "      <td>NaN</td>\n",
              "      <td>8</td>\n",
              "      <td>Western Europe</td>\n",
              "      <td>Attica</td>\n",
              "      <td>Athens</td>\n",
              "      <td>37.997490</td>\n",
              "      <td>23.762728</td>\n",
              "      <td>Bombing/Explosion</td>\n",
              "      <td>NaN</td>\n",
              "      <td>NaN</td>\n",
              "      <td>NaN</td>\n",
              "      <td>U.S. Embassy</td>\n",
              "      <td>Unknown</td>\n",
              "      <td>Government (Diplomatic)</td>\n",
              "      <td>Explosives</td>\n",
              "      <td>0.0</td>\n",
              "      <td>NaN</td>\n",
              "    </tr>\n",
              "    <tr>\n",
              "      <th>4</th>\n",
              "      <td>197001000003</td>\n",
              "      <td>1970</td>\n",
              "      <td>1</td>\n",
              "      <td>0</td>\n",
              "      <td>101</td>\n",
              "      <td>Japan</td>\n",
              "      <td>0</td>\n",
              "      <td>NaN</td>\n",
              "      <td>4</td>\n",
              "      <td>East Asia</td>\n",
              "      <td>Fukouka</td>\n",
              "      <td>Fukouka</td>\n",
              "      <td>33.580412</td>\n",
              "      <td>130.396361</td>\n",
              "      <td>Facility/Infrastructure Attack</td>\n",
              "      <td>NaN</td>\n",
              "      <td>NaN</td>\n",
              "      <td>NaN</td>\n",
              "      <td>U.S. Consulate</td>\n",
              "      <td>Unknown</td>\n",
              "      <td>Government (Diplomatic)</td>\n",
              "      <td>Incendiary</td>\n",
              "      <td>0.0</td>\n",
              "      <td>NaN</td>\n",
              "    </tr>\n",
              "  </tbody>\n",
              "</table>\n",
              "</div>"
            ],
            "text/plain": [
              "        eventid  Year  Month  ...  Weapon_type  ishostkid Summary\n",
              "0  197000000001  1970      7  ...      Unknown        0.0     NaN\n",
              "1  197000000002  1970      0  ...      Unknown        1.0     NaN\n",
              "2  197001000001  1970      1  ...      Unknown        0.0     NaN\n",
              "3  197001000002  1970      1  ...   Explosives        0.0     NaN\n",
              "4  197001000003  1970      1  ...   Incendiary        0.0     NaN\n",
              "\n",
              "[5 rows x 24 columns]"
            ]
          },
          "metadata": {
            "tags": []
          },
          "execution_count": 8
        }
      ]
    },
    {
      "cell_type": "markdown",
      "metadata": {
        "id": "JBqmwTtVogQm"
      },
      "source": [
        "Treating Nulll Values"
      ]
    },
    {
      "cell_type": "code",
      "metadata": {
        "colab": {
          "base_uri": "https://localhost:8080/"
        },
        "id": "rmfl3xw0BUTF",
        "outputId": "aba97a45-acaf-4b06-b876-cfbcbda13787"
      },
      "source": [
        "global_terror.info()"
      ],
      "execution_count": 9,
      "outputs": [
        {
          "output_type": "stream",
          "text": [
            "<class 'pandas.core.frame.DataFrame'>\n",
            "RangeIndex: 181691 entries, 0 to 181690\n",
            "Data columns (total 24 columns):\n",
            " #   Column         Non-Null Count   Dtype  \n",
            "---  ------         --------------   -----  \n",
            " 0   eventid        181691 non-null  int64  \n",
            " 1   Year           181691 non-null  int64  \n",
            " 2   Month          181691 non-null  int64  \n",
            " 3   Day            181691 non-null  int64  \n",
            " 4   Country_Code   181691 non-null  int64  \n",
            " 5   Country_Name   181691 non-null  object \n",
            " 6   extended       181691 non-null  int64  \n",
            " 7   resolution     2220 non-null    object \n",
            " 8   No_of_regions  181691 non-null  int64  \n",
            " 9   Region         181691 non-null  object \n",
            " 10  provstate      181270 non-null  object \n",
            " 11  City           181257 non-null  object \n",
            " 12  latitude       177135 non-null  float64\n",
            " 13  longitude      177134 non-null  float64\n",
            " 14  AttackType     181691 non-null  object \n",
            " 15  Killed         171378 non-null  float64\n",
            " 16  Wounded        165380 non-null  float64\n",
            " 17  Casualities    164817 non-null  float64\n",
            " 18  Target         181055 non-null  object \n",
            " 19  Group          181691 non-null  object \n",
            " 20  Target_type    181691 non-null  object \n",
            " 21  Weapon_type    181691 non-null  object \n",
            " 22  ishostkid      181513 non-null  float64\n",
            " 23  Summary        115562 non-null  object \n",
            "dtypes: float64(6), int64(7), object(11)\n",
            "memory usage: 33.3+ MB\n"
          ],
          "name": "stdout"
        }
      ]
    },
    {
      "cell_type": "markdown",
      "metadata": {
        "id": "wedfY0YxBcRS"
      },
      "source": [
        "#### Analyzing Null Values"
      ]
    },
    {
      "cell_type": "code",
      "metadata": {
        "colab": {
          "base_uri": "https://localhost:8080/"
        },
        "id": "cNcMxRQCna2t",
        "outputId": "fd096b31-135d-442e-e82e-81569c6d5ade"
      },
      "source": [
        "global_terror.isnull().sum()"
      ],
      "execution_count": 13,
      "outputs": [
        {
          "output_type": "execute_result",
          "data": {
            "text/plain": [
              "eventid               0\n",
              "Year                  0\n",
              "Month                 0\n",
              "Day                   0\n",
              "Country_Code          0\n",
              "Country_Name          0\n",
              "extended              0\n",
              "resolution       179471\n",
              "No_of_regions         0\n",
              "Region                0\n",
              "provstate           421\n",
              "City                434\n",
              "latitude           4556\n",
              "longitude          4557\n",
              "AttackType            0\n",
              "Killed                0\n",
              "Wounded           16311\n",
              "Casualities       16874\n",
              "Target              636\n",
              "Group                 0\n",
              "Target_type           0\n",
              "Weapon_type           0\n",
              "ishostkid           178\n",
              "Summary           66129\n",
              "dtype: int64"
            ]
          },
          "metadata": {
            "tags": []
          },
          "execution_count": 13
        }
      ]
    },
    {
      "cell_type": "markdown",
      "metadata": {
        "id": "cp7Wh-ZT2DCy"
      },
      "source": [
        "Killed,Wounded,Casualities,ishostkid these are the columns whose NaN values can be filled with zero "
      ]
    },
    {
      "cell_type": "code",
      "metadata": {
        "id": "LPCn_xDdqHGC"
      },
      "source": [
        "global_terror['Killed'].fillna(0,inplace=True)\r\n",
        "global_terror['Wounded'].fillna(0,inplace=True)\r\n",
        "global_terror['Casualities'].fillna(0,inplace=True)\r\n",
        "global_terror['ishostkid'].fillna(0,inplace=True)"
      ],
      "execution_count": 14,
      "outputs": []
    },
    {
      "cell_type": "markdown",
      "metadata": {
        "id": "Nk3hlYZj7dC8"
      },
      "source": [
        "#Information that can help us better understand the data and find some basic insights"
      ]
    },
    {
      "cell_type": "code",
      "metadata": {
        "colab": {
          "base_uri": "https://localhost:8080/"
        },
        "id": "hENJey7g4_Ez",
        "outputId": "b7ed7995-c74c-4d75-dbcc-8f8f93d18779"
      },
      "source": [
        "# Region with most number  of terror attacks\r\n",
        "print('The region of',global_terror['Region'].value_counts(dropna=True, ascending=False).index[0] , 'had the highest amount of Terrorist Attacks totalled at',global_terror['Region'].value_counts(dropna=True,  ascending=False).max(),'\\n')\r\n",
        "\r\n",
        "# Country with most number  of terror attacks\r\n",
        "print('The most known country with terror attacks was' ,global_terror['Country_Name'].value_counts( ascending=False).index[0],'totalled at',global_terror['Country_Name'].value_counts( ascending=False).max(),'\\n')\r\n",
        "\r\n",
        "# City with most number  of terror attacks\r\n",
        "print('The most known city that had terror attacks was' ,global_terror['City'].value_counts(dropna=True, ascending=False).index[1],'\\n')\r\n",
        "\r\n",
        "# weapon used mostly\r\n",
        "print('The most used weapon in terror attacks was' ,global_terror['Weapon_type'].value_counts(dropna=True, normalize=False, ascending=False).index[0],'totalled at',global_terror['Weapon_type'].value_counts(dropna=True, normalize=False, ascending=False).max(),'\\n')\r\n",
        "\r\n",
        "# most preferred method of attacking\r\n",
        "print('The most preferred method of attack was',global_terror['AttackType'].value_counts(dropna=True,ascending=False).index[0],'totalling at',global_terror['AttackType'].value_counts(dropna=True,  ascending=False).max())"
      ],
      "execution_count": 35,
      "outputs": [
        {
          "output_type": "stream",
          "text": [
            "The region of Middle East & North Africa had the highest amount of Terrorist Attacks totalled at 50474 \n",
            "\n",
            "The most known country with terror attacks was Iraq totalled at 24636 \n",
            "\n",
            "The most known city that had terror attacks was Baghdad \n",
            "\n",
            "The most used weapon in terror attacks was Explosives totalled at 92426 \n",
            "\n",
            "The most preferred method of attack was Bombing/Explosion totalling at 88255\n"
          ],
          "name": "stdout"
        }
      ]
    },
    {
      "cell_type": "markdown",
      "metadata": {
        "id": "ccWPEEvnFzj0"
      },
      "source": [
        "#Number Of Terrorist Activities Each Year"
      ]
    },
    {
      "cell_type": "code",
      "metadata": {
        "colab": {
          "base_uri": "https://localhost:8080/",
          "height": 508
        },
        "id": "QWGiKnNYFzMp",
        "outputId": "3d7b7da0-a8a4-4fab-cab7-172f84106a4c"
      },
      "source": [
        "plt.subplots(figsize=(20,6))\r\n",
        "sns.countplot('Year',data=global_terror,palette='mako')\r\n",
        "plt.xticks(rotation=90)\r\n",
        "plt.title('Number Of Terrorist Activities Each Year')\r\n",
        "plt.show()"
      ],
      "execution_count": 42,
      "outputs": [
        {
          "output_type": "stream",
          "text": [
            "/usr/local/lib/python3.7/dist-packages/seaborn/_decorators.py:43: FutureWarning:\n",
            "\n",
            "Pass the following variable as a keyword arg: x. From version 0.12, the only valid positional argument will be `data`, and passing other arguments without an explicit keyword will result in an error or misinterpretation.\n",
            "\n"
          ],
          "name": "stderr"
        },
        {
          "output_type": "display_data",
          "data": {
            "image/png": "[encoded data removed]",
            "text/plain": [
              "<Figure size 1440x432 with 1 Axes>"
            ]
          },
          "metadata": {
            "tags": [],
            "needs_background": "light"
          }
        }
      ]
    },
    {
      "cell_type": "markdown",
      "metadata": {
        "id": "I-RxLQEbEs6Q"
      },
      "source": [
        "#Total Numbers of attack in top 10 Terror Attack Country"
      ]
    },
    {
      "cell_type": "code",
      "metadata": {
        "colab": {
          "base_uri": "https://localhost:8080/",
          "height": 431
        },
        "id": "mgC5GMtYoczC",
        "outputId": "b589251c-0e56-4792-ea3d-bf397828fe82"
      },
      "source": [
        "plt.subplots(figsize=(15,6))\r\n",
        "country = global_terror.Country_Name.value_counts()[:10].reset_index()\r\n",
        "country.columns = ['Country', 'Total Attacks']\r\n",
        "sns.barplot(x=country.Country, y=country['Total Attacks'], palette= 'mako')\r\n",
        "plt.xticks(rotation=20)\r\n",
        "plt.title('Total Number of Attacks in top 10 Terror Attack Country')\r\n",
        "plt.show()"
      ],
      "execution_count": 33,
      "outputs": [
        {
          "output_type": "display_data",
          "data": {
            "image/png": "[encoded data removed]",
            "text/plain": [
              "<Figure size 1080x432 with 1 Axes>"
            ]
          },
          "metadata": {
            "tags": [],
            "needs_background": "light"
          }
        }
      ]
    },
    {
      "cell_type": "markdown",
      "metadata": {
        "id": "0LwP49P7E-Dq"
      },
      "source": [
        "#Number of Total Casualities in Top 10 Terror Attack Country"
      ]
    },
    {
      "cell_type": "code",
      "metadata": {
        "colab": {
          "base_uri": "https://localhost:8080/",
          "height": 427
        },
        "id": "5wC5hEEmE4fU",
        "outputId": "7779a5f7-d845-44e2-f30c-69fa6fc844e6"
      },
      "source": [
        "plt.subplots(figsize=(15,6))\r\n",
        "Casualities = global_terror.groupby('Country_Name').Casualities.sum().to_frame().reset_index().sort_values('Casualities', ascending=False)[:10]\r\n",
        "sns.barplot(x=Casualities.Country_Name, y=Casualities.Casualities, palette= 'mako')\r\n",
        "plt.xticks(rotation=20)\r\n",
        "plt.title('Number of Total Casualities in Top 10 Terror Attack Country')\r\n",
        "plt.show()"
      ],
      "execution_count": 40,
      "outputs": [
        {
          "output_type": "display_data",
          "data": {
            "image/png": "[encoded data removed]",
            "text/plain": [
              "<Figure size 1080x432 with 1 Axes>"
            ]
          },
          "metadata": {
            "tags": [],
            "needs_background": "light"
          }
        }
      ]
    },
    {
      "cell_type": "code",
      "metadata": {
        "id": "WRevy6yuCD3X"
      },
      "source": [
        ""
      ],
      "execution_count": null,
      "outputs": []
    },
    {
      "cell_type": "markdown",
      "metadata": {
        "id": "Rsq_NmaFoK8z"
      },
      "source": [
        "# Visualizing Parts of world Most targetted"
      ]
    },
    {
      "cell_type": "code",
      "metadata": {
        "colab": {
          "base_uri": "https://localhost:8080/",
          "height": 542
        },
        "id": "lb0fybDyng8p",
        "outputId": "45d4efb3-ab7b-477f-dffb-04cb6881be83"
      },
      "source": [
        "import plotly.express as px\r\n",
        "\r\n",
        "#Only showing the top 1000 data points\r\n",
        "geog = global_terror.head(1000)\r\n",
        "geog = geog[['latitude','longitude']]\r\n",
        "fig = px.scatter_geo(geog, lat='latitude', lon='longitude')\r\n",
        "\r\n",
        "fig.show()"
      ],
      "execution_count": 12,
      "outputs": [
        {
          "output_type": "display_data",
          "data": {
            "text/html": [
              "<html>\n",
              "<head><meta charset=\"utf-8\" /></head>\n",
              "<body>\n",
              "    <div>\n",
              "            <script src=\"https://cdnjs.cloudflare.com/ajax/libs/mathjax/2.7.5/MathJax.js?config=TeX-AMS-MML_SVG\"></script><script type=\"text/javascript\">if (window.MathJax) {MathJax.Hub.Config({SVG: {font: \"STIX-Web\"}});}</script>\n",
              "                <script type=\"text/javascript\">window.PlotlyConfig = {MathJaxConfig: 'local'};</script>\n",
              "        <script src=\"https://cdn.plot.ly/plotly-latest.min.js\"></script>    \n",
              "            <div id=\"3c7e56f0-4c66-4d91-a99d-32c1ac459c4d\" class=\"plotly-graph-div\" style=\"height:525px; width:100%;\"></div>\n",
              "            <script type=\"text/javascript\">\n",
              "                \n",
              "                    window.PLOTLYENV=window.PLOTLYENV || {};\n",
              "                    \n",
              "                if (document.getElementById(\"3c7e56f0-4c66-4d91-a99d-32c1ac459c4d\")) {\n",
              "                    Plotly.newPlot(\n",
              "                        '3c7e56f0-4c66-4d91-a99d-32c1ac459c4d',\n",
              "                        [{\"geo\": \"geo\", \"hoverlabel\": {\"namelength\": 0}, \"hovertemplate\": \"latitude=%{lat}<br>longitude=%{lon}\", \"lat\": [18.456792, 19.371887, 15.478598000000002, 37.99749, 33.580412, 37.005105, -34.891151, 37.791927, 43.076592, 43.07295, 43.4685, 39.758967999999996, 41.890961, 42.331685, 18.386932, 52.50153, null, 40.697132, 18.379998, 47.610786, 40.116748, -34.891151, 47.610786, 47.610786, 40.717892, 14.622869, 14.67428, 10.482834, 42.47031, 33.60651, 40.697132, 33.60651, 40.697132, 41.241996, 52.50153, 47.610786, 42.479999, 42.46634, 25.720851, 15.675051000000002, 39.758967999999996, 45.511795, 37.005105, 40.697132, 40.697132, 40.697132, 41.084195, 39.758967999999996, 47.610786, 47.610786, 18.460791, 18.386932, 18.441963, 42.3505, 42.838355, 40.697132, 40.697132, 40.697132, 39.078590000000005, 48.139126, 42.263414000000004, 37.874043, 48.139126, 37.874043, 40.697132, 44.04483, 37.755363, 37.874043, 37.874043, 37.755363, 37.791927, 39.334825, 30.493919, 47.610786, 41.479561, 38.10083, 41.763325, 40.697132, 47.610786, 50.11797, 47.36865, 40.697132, 40.697132, 40.697132, 39.758967999999996, 42.455233, 43.287052, 42.47031, 42.47031, 42.47031, 42.47031, 32.222232, 39.758967999999996, 40.101952000000004, 40.007581, 31.530243, 14.596051000000001, 41.890961, 40.007581, 38.864281, 40.007581, 40.014986, 41.479561, null, 39.758967999999996, 47.610786, 37.791927, 38.019304, 39.758967999999996, 47.610786, 39.758967999999996, 18.386932, 14.622869, 42.331685, 42.331685, 37.874043, 33.83651, 41.18188, 35.084319, 39.538940000000004, 48.139126, 38.563122, 37.755363, -23.550711, 40.102408000000004, 40.697132, 40.697132, 41.842602, 41.842602, 40.697132, 44.260288, 44.268598, null, 31.198056, 40.697132, 33.766725, 18.386932, 45.783975, 34.105245000000004, 34.097865999999996, 39.226834999999994, 45.511795, 42.331685, 38.908642, 40.697132, 40.697132, 40.697132, 40.697132, 40.697132, 28.538234999999997, 15.153001999999999, 18.456792, -27.583246000000003, 40.697132, 41.479561, 37.93781, 37.755363, -34.61768, 33.888523, 40.85122, 32.3575, 14.622869, 33.580412, 38.908642, 47.610786, null, 42.7375, 42.455233, 29.813822, 15.185916, 40.697132, 53.361675, 40.697132, 40.697132, 46.731958, -30.034108000000003, -34.61768, 35.76625, 35.76625, 40.697132, 29.813822, 38.973065000000005, 37.023676, 34.097865999999996, 38.624421000000005, 32.715695000000004, 42.455233, 28.949564000000002, 37.874043, 39.176086, 39.176086, 39.176086, 35.76625, 33.783823999999996, 34.097865999999996, 31.950001, 34.097865999999996, 34.097865999999996, 34.097865999999996, 39.176086, 39.176086, 39.176086, 35.76625, 37.791927, 47.610786, 47.610786, 47.610786, 47.610786, 40.697132, 38.954344, null, 34.097865999999996, 35.76625, 37.874043, 37.874043, 43.064388, 40.102408000000004, 34.062684999999995, 18.379626000000002, 18.379626000000002, 18.379626000000002, 18.379626000000002, 37.424305, 39.308341999999996, 40.697132, 40.697132, 41.106178, 40.008171000000004, 42.7375, 42.7375, 42.7375, 30.443334999999998, 30.443334999999998, 45.031807, 41.657825, 41.312065000000004, 42.056459000000004, 33.882923, 42.025345, 38.788097, 52.50153, 52.50153, 40.697132, 30.443334999999998, 42.290156, 18.386932, 40.697132, 39.640397, 41.316324, 40.697132, 40.697132, 40.1142, 40.1142, -25.282773000000002, 39.645039000000004, 35.904912, 35.22076, 40.347457, 52.50153, 46.404973, 25.720851, 28.538234999999997, 40.697132, 37.791927, 46.143582, 40.336585, 45.511795, 33.73787, 45.511795, 42.301631, 40.697132, 41.356445, 40.818985, 34.097865999999996, 38.551295, 52.50153, 38.908642, 46.198392, 29.813822, 42.331685, 41.579662, 40.759505, 36.312, 25.774591, 42.45717, 40.697132, 33.783823999999996, 36.312, 52.50153, -34.891151, 52.50153, 47.610786, 40.697132, 38.550245000000004, 30.588140999999997, 40.201190000000004, 25.774591, 35.76625, 40.697132, 44.946604, 42.025345, 36.312, 36.312, 36.312, 34.097865999999996, 42.301631, 42.301631, 38.579065, 33.44826, 40.697132, 33.882923, -34.61768, -34.891151, 37.791927, 32.715695000000004, 40.697132, null, 11.586558, 30.443334999999998, 41.524935, 45.511795, 37.791927, 34.097865999999996, 14.67428, 52.50153, 52.50153, 40.697132, 37.874043, 31.950001, 31.950001, 33.96307, 41.842602, 37.791927, 10.063506, 35.724533, 40.697132, 31.950001, 31.950001, 40.946915000000004, 40.731970000000004, 31.950001, -22.908278, 35.724533, 41.260675, -34.891151, 37.005322, 37.005105, 41.579662, 39.176086, 52.50153, 52.50153, 33.887157, 37.831455, 40.697132, 40.697132, 37.874043, 37.874043, 41.842602, 37.755363, 41.579662, 52.50153, 37.755363, 40.697132, 32.500640000000004, 55.011562, 55.011562, 54.607712, 54.607712, 54.607712, 42.331685, 41.579662, 43.118460999999996, 40.617622999999995, 40.697132, 40.697132, 40.697132, 40.697132, 43.074701, 42.290156, -22.908278, 38.908642, 37.874043, 38.908642, 38.908642, 38.908642, 38.908642, 41.260675, 33.895285, 40.697132, 47.610786, 40.697132, 40.697132, 32.500640000000004, 41.084195, 40.5894, 37.755363, 40.697132, 40.697132, 40.697132, 40.697132, 40.697132, 33.948315, 38.232471000000004, 48.139126, 42.039274, 5.059097, null, 41.637675, 37.424305, 41.842602, 40.697132, 41.842602, 40.697132, 44.943829, 41.842602, 40.697132, 40.697132, null, 32.715695000000004, 40.697132, 43.064388, 37.99749, 43.064388, 39.933448999999996, 12.103822000000001, 34.097865999999996, -8.048021, 40.697132, 38.62774, 43.939135, 40.697132, 43.939135, 43.939135, 37.755363, 37.755363, -34.891151, 29.813822, 42.815371999999996, 37.774421999999994, 41.842602, -34.891151, -34.891151, -34.891151, -34.422436, 35.2225, 52.370216, 40.697132, 50.836426, 37.874043, 43.064388, -26.808284999999998, 33.871124, 37.338475, 52.50153, 39.26931, 37.97457, -31.632368, 45.511795, 54.077313000000004, 52.50153, 52.50153, 33.60651, 41.260675, 44.964985, 40.697132, -34.891151, 38.908642, 39.464791, 37.874043, -34.891151, 44.04483, 44.943829, 39.308341999999996, 43.07295, 19.371887, 42.505832, 52.50153, 42.377003, 35.948199, 37.90118, 38.908642, 37.874043, 37.90118, 33.946154, 38.908642, 33.948005, 39.930771, 31.950001, -34.891151, 40.008171000000004, 37.99749, 37.755363, 37.432805, 37.548148, 35.14968, 44.943829, -34.891151, 54.607712, 43.064388, 33.745573, 41.82277, 34.097865999999996, 50.11797, 47.36865, 52.370216, 52.370216, 42.581759999999996, 52.50153, -31.399301, 43.07295, 29.647665000000003, 31.950001, -34.891151, -34.61768, 51.504387, -34.891151, -34.891151, -32.951052000000004, 41.67086, 42.811978, 42.350097, -34.891151, 40.697132, 52.50153, 40.697132, -34.891151, 40.697132, 40.697132, 54.607712, 35.724533, 39.308341999999996, 38.395649, 44.04483, 39.162608, 39.930771, 39.930771, 46.803137, 41.842602, 37.264891, 39.930771, 40.697132, 47.610786, 34.419255, 37.97457, 37.874043, -34.891151, 48.777105999999996, 29.813822, 46.803137, 35.724533, 40.697132, 42.36679, 48.139126, 42.36679, -34.891151, -34.891151, -34.891151, -34.891151, 39.176086, -34.61768, 48.139126, 33.683734, 33.683734, -34.61768, 37.005105, -37.813187, 37.005105, 37.755363, 42.331685, 41.890961, 37.005105, 37.005105, 38.908642, 33.683734, -34.61768, 39.930771, 51.504387, 27.199990000000003, 43.111261, 33.62905, 40.697132, 40.697132, 40.697132, 40.697132, 35.724533, 24.891115, 36.740685, 36.740685, 41.001845, 42.278044, -34.61768, -34.864823, 52.50153, 37.005105, 44.964985, 37.005105, 50.11797, 39.930771, 41.842602, 18.386932, 18.386932, 18.386932, 18.386932, -34.61768, 27.771185, 54.607712, 27.807403000000004, -34.61768, -34.61768, -34.61768, 39.930771, -34.891151, 45.511795, 35.046440000000004, 14.596051000000001, 27.771185, 18.386932, 39.930771, 40.697132, 40.697132, 37.874043, 18.386932, -34.891151, 50.11797, -34.891151, 43.291618, -34.891151, -34.891151, 44.04483, -22.908278, 38.973065000000005, -34.891151, -34.891151, 40.697132, 41.18188, 34.41217, 41.807741, -34.891151, -34.891151, 26.011201, -34.891151, 37.54703, 43.113655, 54.607712, 39.930771, 33.655968, 39.930771, -31.399301, 42.919882, 49.294641999999996, 34.06857, 35.214905, 48.139126, 34.0961, 34.200340000000004, 34.054829999999995, 38.355878999999995, -34.891151, 48.139126, 38.908642, 34.038253999999995, 34.055103, -34.891151, 39.930771, 34.055103, 33.783590000000004, 37.755363, 48.139126, null, 40.697132, 40.697132, 48.139126, 40.697132, 37.755363, 37.755363, 41.479561, null, 39.930771, 39.930771, 11.583513, -34.68631, 40.697132, 39.930771, 39.930771, 26.714388, -34.891151, -34.891151, -34.891151, 54.607712, 18.456792, 18.456792, 48.139126, 39.930771, 34.097865999999996, -31.399301, 38.395649, 38.395649, -34.891151, 37.791927, 35.2225, 34.419255, 50.11797, 54.607712, 54.637969999999996, 39.930771, 37.146795000000004, 54.452223, 26.714388, 39.930771, 57.696994, 41.084195, 10.482834, 39.930771, 14.596051000000001, 39.930771, 36.974025, 33.764496, 40.097625, 39.930771, 54.607712, 18.442164000000002, 18.442164000000002, 18.386932, 18.386932, 18.386932, 39.930771, 41.106178, 41.106178, 9.933333, 39.930771, 25.774591, 10.482834, 39.930771, 34.097865999999996, 54.607712, 21.3, 37.874043, 18.386932, 15.153001999999999, null, 10.482834, 34.097865999999996, 38.908642, 40.697132, 40.697132, 34.419255, 37.874043, 39.930771, 21.3, 33.42558, 33.42558, 33.42558, 33.42558, 54.607712, 38.62774, 38.62774, 40.079609000000005, 48.139126, -34.891151, 49.4019, 54.607712, 29.813822, 45.511795, 41.106178, 41.106178, 51.924215999999994, -34.891151, 37.54703, 37.755363, 42.455233, 28.505025, 30.33138, 52.50153, 40.697132, 42.407484000000004, 37.906032, 42.359139, 34.225528999999995, 45.469212, 39.930771, 39.308341999999996, -31.399301, 38.395649, 37.755363, 40.697132, 14.596051000000001, 40.697132, 39.758967999999996, 37.474249, 32.65246, 35.724533, 34.097865999999996, null, 40.465595, 33.953348999999996, 41.400635, 34.097865999999996, 42.24088, 31.530345, 37.089185, 18.386932, 18.386932, 39.930771, 39.930771, 39.930771, 34.097865999999996, 37.338475, 35.724533, 59.332788, 36.736419, 39.930771, -34.921295, 40.697132, 37.424305, 18.386932, 34.097865999999996, 40.697132, 40.697132, 41.400635, 40.697132, 18.386932, 36.740685, 37.874043, 44.883175, 40.697132, 36.740685, 37.424305, 37.235807, 37.906032, 37.424305, 41.0981, 34.0961, 34.097718, 34.106066999999996, 37.906032, 34.097865999999996, 37.791927, 34.097865999999996, -34.458721000000004, 34.097865999999996, 34.097865999999996, 37.235807, 37.874043, 37.338475, 42.206390999999996, 36.974025, 42.815371999999996, -16.509317000000003, 39.930771, 39.728352, 36.740685, 37.625510999999996, 35.724533, 41.400635, 39.728352, 39.728352, 33.425509999999996, 39.113789000000004, 33.973704999999995, 52.50153, 10.482834, 37.322359999999996, 34.022442, 37.577883, 38.525255, 41.657825, 43.291618, 54.607712, 34.097865999999996, 37.874043, 36.068994, 34.186531, 18.456792, 34.097865999999996, 34.097865999999996, 34.250636, 39.308341999999996, null, 26.714388, 41.842602, 35.724533, 39.930771, 37.742578, 41.106178, 52.50153, 31.285505999999998, 52.50153, 52.50153, 52.50153, 40.697132, 37.338475, 40.697132, 37.625510999999996, 54.607712, -31.399301, 37.791927, 37.90118, 54.607712, 41.77033, 43.291618, 37.002437, 34.097865999999996, 38.951603000000006, 40.697132, null, 37.454696999999996, 38.232471000000004, 12.825647, 34.097865999999996, 34.13149, 40.465595, 34.097865999999996, 34.097865999999996, 34.022425, 36.974025, 34.097865999999996, 40.697132, 37.338475, 40.863958000000004, 34.097865999999996, 34.097865999999996, 37.791927, 34.097865999999996, 40.658455, 34.097865999999996, 43.258434, 40.697132, 34.097865999999996, 42.815371999999996, 37.338475, 34.015147, 34.097865999999996, 34.097865999999996, 41.823875, 32.715695000000004, 54.607712, 54.607712, 43.18418, 40.465595, 41.614152000000004, 34.042309, 37.755363, 36.999276, 40.697132, 37.950322, -31.399301, 37.089185, 41.400635, 34.081074, 54.607712, 54.607712, 54.794883999999996, 55.011562, 40.697132, 54.607712, 54.607712, 40.438334999999995, 54.607712, 33.44865, 33.764496, 42.761624, 41.479561, 40.697132, 40.74617, 40.697132, 40.697132, 40.697132, 40.697132, 40.697132, 40.697132, 40.697132, 40.697132, 40.74617, 40.74617, 40.74617, 40.74617, 40.74617, 40.697132, 40.697132, 40.465595, 41.583193, 40.465595, 54.607712, 54.607712, 34.097865999999996, 37.755363, 41.890961, 37.755363, 38.579065, 37.54703, 37.755363, 34.097865999999996, 37.755363, 54.077313000000004, 54.607712, 42.636876, 11.558831, 11.558831, 32.462925, 35.487474], \"legendgroup\": \"\", \"lon\": [-69.951164, -99.086624, 120.599741, 23.762728, 130.396361, -89.17626899999999, -56.187214000000004, -122.22590600000001, -89.412488, -89.38669399999999, -89.744299, -104.876305, 12.490069, -83.047924, -66.061127, 13.401851, null, -73.931351, -65.83094799999999, -122.33130600000001, -88.23926999999999, -56.187214000000004, -122.33130600000001, -122.33130600000001, -74.06746700000001, -90.52906800000001, 121.05749499999999, -66.962128, -96.413949, -88.650419, -73.931351, -88.650419, -73.931351, -82.615241, 13.401851, -122.33130600000001, -96.413046, -96.41405, -80.277857, 120.33161799999999, -104.876305, -122.675629, -89.17626899999999, -73.931351, -73.931351, -73.931351, -81.514059, -104.876305, -122.33130600000001, -122.33130600000001, -66.264884, -66.061127, -66.02631600000001, -71.105399, -88.743224, -73.931351, -73.931351, -73.931351, -84.17941400000001, 11.580186, -83.66528100000001, -122.280022, 11.580186, -122.280022, -73.931351, -123.07260600000001, -122.443352, -122.280022, -122.280022, -122.443352, -122.22590600000001, -77.431653, -90.132512, -122.33130600000001, -81.675461, -122.254954, -72.67406899999999, -73.931351, -122.33130600000001, 8.644191000000001, 8.539182, -73.931351, -73.931351, -73.931351, -104.876305, -76.475847, -89.724361, -96.413949, -96.413949, -96.413949, -96.413949, -110.925752, -104.876305, -88.227161, -105.265942, 35.094162, 120.97866599999999, 12.490069, -105.265942, -104.778412, -105.265942, -105.270546, -81.675461, null, -104.876305, -122.33130600000001, -122.22590600000001, -122.13406200000001, -104.876305, -122.33130600000001, -104.876305, -66.061127, -90.52906800000001, -83.047924, -83.047924, -122.280022, -86.254749, -73.19126899999999, -106.619781, -76.348479, 11.580186, -76.078063, -122.443352, -46.633475, -88.227159, -73.931351, -73.931351, -87.681229, -87.681229, -73.931351, -88.39745500000001, -88.42844000000001, null, 29.919166999999998, -73.931351, -118.192399, -66.061127, -108.505794, -117.294124, -118.407379, -84.45330899999999, -122.675629, -83.047924, -77.015381, -73.931351, -73.931351, -73.931351, -73.931351, -73.931351, -81.37738900000001, 120.59194199999999, -69.951164, -56.683333999999995, -73.931351, -81.675461, -122.34270900000001, -122.443352, -58.444435, 35.503513, -90.864369, -84.95623, -90.52906800000001, 130.396361, -77.015381, -122.33130600000001, null, -84.483779, -76.475847, -95.36529499999999, 120.54186999999999, -73.931351, -6.2454849999999995, -73.931351, -73.931351, -117.162603, -51.217839, -58.444435, -117.370674, -117.370674, -73.931351, -95.36529499999999, -95.23653399999999, -94.735504, -118.407379, -90.150603, -117.16171899999999, -76.475847, -95.344371, -122.280022, -94.574127, -94.574127, -94.574127, -117.370674, -118.11408999999999, -118.407379, 35.933331, -118.407379, -118.407379, -118.407379, -94.574127, -94.574127, -94.574127, -117.370674, -122.22590600000001, -122.33130600000001, -122.33130600000001, -122.33130600000001, -122.33130600000001, -73.931351, -95.25579599999999, null, -118.407379, -117.370674, -122.280022, -122.280022, -87.966202, -88.227159, -117.16318100000001, -67.18842099999999, -67.18842099999999, -67.18842099999999, -67.18842099999999, -122.14391299999998, -76.616104, -73.931351, -73.931351, 28.689863, -75.13549, -84.483779, -84.483779, -84.483779, -91.186994, -91.186994, -93.336547, -91.526534, -72.928288, -87.675267, -117.92910400000001, -93.620199, -90.497479, 13.401851, 13.401851, -73.931351, -91.186994, -71.04897, -66.061127, -73.931351, -86.861622, -72.92234300000001, -73.931351, -73.931351, -88.243499, -88.243499, -57.63561, -79.183128, -79.046913, -97.44659899999999, -94.87290899999999, 13.401851, -117.00934099999999, -80.277857, -81.37738900000001, -73.931351, -122.22590600000001, -122.92564499999999, -75.92784300000001, -122.675629, -118.28466399999999, -122.675629, -71.067605, -73.931351, -72.096469, -73.595724, -118.407379, -121.471066, 13.401851, -77.015381, 6.142296, -95.36529499999999, -83.047924, -93.62150600000001, -111.88822900000001, -78.5882, -80.21419499999999, -71.064049, -73.931351, -118.11408999999999, -78.5882, 13.401851, -56.187214000000004, 13.401851, -122.33130600000001, -73.931351, -90.332723, -84.580929, -77.18916899999999, -80.21419499999999, -117.370674, -73.931351, -93.13644599999999, -93.620199, -78.5882, -78.5882, -78.5882, -118.407379, -71.067605, -71.067605, -121.49101399999999, -112.075774, -73.931351, -117.92910400000001, -58.444435, -56.187214000000004, -122.22590600000001, -117.16171899999999, -73.931351, null, 122.753716, -91.186994, -88.084594, -122.675629, -122.22590600000001, -118.407379, 121.05749499999999, 13.401851, 13.401851, -73.931351, -122.280022, 35.933331, 35.933331, -118.232573, -87.681229, -122.22590600000001, -69.334722, 51.405190000000005, -73.931351, 35.933331, 35.933331, -90.364659, -74.174184, 35.933331, -43.197026, 51.405190000000005, -95.940469, -56.187214000000004, -89.176156, -89.17626899999999, -93.62150600000001, -94.574127, 13.401851, 13.401851, -118.410843, -122.285164, -73.931351, -73.931351, -122.280022, -122.280022, -87.681229, -122.443352, -93.62150600000001, 13.401851, -122.443352, -73.931351, -94.741075, -7.3120449999999995, -7.3120449999999995, -5.95621, -5.95621, -5.95621, -83.047924, -93.62150600000001, -87.902289, -74.417061, -73.931351, -73.931351, -73.931351, -73.931351, -88.008394, -71.04897, -43.197026, -77.015381, -122.280022, -77.015381, -77.015381, -77.015381, -77.015381, -95.940469, -118.224329, -73.931351, -122.33130600000001, -73.931351, -73.931351, -94.741075, -81.514059, -73.666354, -122.443352, -73.931351, -73.931351, -73.931351, -73.931351, -73.931351, -86.472939, -122.644448, 11.580186, -87.859977, -75.50596, null, -70.930869, -122.14391299999998, -87.681229, -73.931351, -87.681229, -73.931351, -93.093326, -87.681229, -73.931351, -73.931351, null, -117.16171899999999, -73.931351, -87.966202, 23.762728, -87.966202, -75.10674300000001, -86.267014, -118.407379, -34.876338, -73.931351, -90.19951400000001, -90.820369, -73.931351, -90.820369, -90.820369, -122.443352, -122.443352, -56.187214000000004, -95.36529499999999, -1.653616, -122.275475, -87.681229, -56.187214000000004, -56.187214000000004, -56.187214000000004, -58.73775500000001, -80.837539, 4.895168, -73.931351, 4.367415, -122.280022, -87.966202, -65.21759, -117.861401, -121.88579399999999, 13.401851, -76.503519, -122.532474, -60.699358999999994, -122.675629, -6.6087869999999995, 13.401851, 13.401851, -88.650419, -95.940469, -93.260193, -73.931351, -56.187214000000004, -77.015381, -76.829198, -122.280022, -56.187214000000004, -123.07260600000001, -93.093326, -76.616104, -89.38669399999999, -99.086624, -71.19376, 13.401851, -71.11666, -77.79520699999999, -122.061628, -77.015381, -122.280022, -122.061628, -118.082952, -77.015381, -83.37732199999999, 32.767540000000004, 35.933331, -56.187214000000004, -75.13549, 23.762728, -122.443352, -121.897259, -121.98856599999999, -90.048929, -93.093326, -56.187214000000004, -5.95621, -87.966202, -117.867834, -90.538969, -118.407379, 8.644191000000001, 8.539182, 4.895168, 4.895168, -71.792259, 13.401851, -64.182129, -89.38669399999999, -82.348458, 35.933331, -56.187214000000004, -58.444435, -0.140041, -56.187214000000004, -56.187214000000004, -60.666365, -83.543846, -70.872638, -71.156442, -56.187214000000004, -73.931351, 13.401851, -73.931351, -56.187214000000004, -73.931351, -73.931351, -5.95621, 51.405190000000005, -76.616104, 27.135640999999996, -123.07260600000001, -76.624689, 32.767540000000004, 32.767540000000004, -71.241298, -87.681229, -81.240268, 32.767540000000004, -73.931351, -122.33130600000001, -119.69886899999999, -122.532474, -122.280022, -56.187214000000004, 9.180769, -95.36529499999999, -71.241298, 51.405190000000005, -73.931351, -71.10601899999999, 11.580186, -71.10601899999999, -56.187214000000004, -56.187214000000004, -56.187214000000004, -56.187214000000004, -94.574127, -58.444435, 11.580186, -117.79460900000001, -117.79460900000001, -58.444435, -89.17626899999999, 144.96298000000002, -89.17626899999999, -122.443352, -83.047924, 12.490069, -89.17626899999999, -89.17626899999999, -77.015381, -117.79460900000001, -58.444435, 32.767540000000004, -0.140041, -80.255359, -87.89863199999999, -117.691249, -73.931351, -73.931351, -73.931351, -73.931351, 51.405190000000005, 67.143311, -119.785734, -119.785734, -80.34724, -83.738224, -58.444435, -57.90851899999999, 13.401851, -89.17626899999999, -93.260193, -89.17626899999999, 8.644191000000001, 32.767540000000004, -87.681229, -66.061127, -66.061127, -66.061127, -66.061127, -58.444435, -82.639319, -5.95621, -82.689767, -58.444435, -58.444435, -58.444435, 32.767540000000004, -56.187214000000004, -122.675629, -85.309464, 120.97866599999999, -82.639319, -66.061127, 32.767540000000004, -73.931351, -73.931351, -122.280022, -66.061127, -56.187214000000004, 8.644191000000001, -56.187214000000004, -1.977903, -56.187214000000004, -56.187214000000004, -123.07260600000001, -43.197026, -95.23653399999999, -56.187214000000004, -56.187214000000004, -73.931351, -73.19126899999999, -119.85703999999998, -72.25398, -56.187214000000004, -56.187214000000004, -80.14949, -56.187214000000004, -122.314834, -87.900289, -5.95621, 32.767540000000004, -84.448957, 32.767540000000004, -64.182129, -3.060073, 8.69774, -118.027606, -80.001234, 11.580186, -117.716404, -119.18043899999999, -117.75003400000001, 38.296473999999996, -56.187214000000004, 11.580186, -77.015381, -117.752109, -117.749991, -56.187214000000004, 32.767540000000004, -117.749991, -118.353879, -122.443352, 11.580186, null, -73.931351, -73.931351, 11.580186, -73.931351, -122.443352, -122.443352, -81.675461, null, 32.767540000000004, 32.767540000000004, 37.397019, -58.528473, -73.931351, 32.767540000000004, 32.767540000000004, -80.052689, -56.187214000000004, -56.187214000000004, -56.187214000000004, -5.95621, -69.951164, -69.951164, 11.580186, 32.767540000000004, -118.407379, -64.182129, 27.135640999999996, 27.135640999999996, -56.187214000000004, -122.22590600000001, -80.837539, -119.69886899999999, 8.644191000000001, -5.95621, -6.14485, 32.767540000000004, 49.536102, -7.486124, -80.052689, 32.767540000000004, 11.9865, -81.514059, -66.962128, 32.767540000000004, 120.97866599999999, 32.767540000000004, -122.03095400000001, -84.43208299999999, -74.85726899999999, 32.767540000000004, -5.95621, -66.026298, -66.026298, -66.061127, -66.061127, -66.061127, 32.767540000000004, 28.689863, 28.689863, -84.083333, 32.767540000000004, -80.21419499999999, -66.962128, 32.767540000000004, -118.407379, -5.95621, -157.81896799999998, -122.280022, -66.061127, 120.59194199999999, null, -66.962128, -118.407379, -77.015381, -73.931351, -73.931351, -119.69886899999999, -122.280022, 32.767540000000004, -157.81896799999998, -94.048254, -94.048254, -94.048254, -94.048254, -5.95621, -90.19951400000001, -90.19951400000001, -104.812912, 11.580186, -56.187214000000004, 8.680285000000001, -5.95621, -95.36529499999999, -122.675629, 28.689863, 28.689863, 4.481776, -56.187214000000004, -122.314834, -122.443352, -76.475847, -16.192648000000002, -81.655799, 13.401851, -73.931351, -71.119023, -122.548169, -83.066546, -118.87891100000002, 9.174508, 32.767540000000004, -76.616104, -64.182129, 27.135640999999996, -122.443352, -73.931351, 120.97866599999999, -73.931351, -104.876305, 49.458725, 51.674620000000004, 51.405190000000005, -118.407379, null, -3.6962629999999996, -117.396156, 2.150913, -118.407379, -83.613089, -83.835349, -122.08675600000001, -66.061127, -66.061127, 32.767540000000004, 32.767540000000004, 32.767540000000004, -118.407379, -121.88579399999999, 51.405190000000005, 18.064488, -119.78919599999999, 32.767540000000004, -57.954333, -73.931351, -122.14391299999998, -66.061127, -118.407379, -73.931351, -73.931351, 2.150913, -73.931351, -66.061127, -119.785734, -122.280022, -93.283006, -73.931351, -119.785734, -122.14391299999998, -121.96241599999999, -122.545048, -122.14391299999998, -80.650789, -117.716404, -117.70945, -117.716404, -122.545048, -118.407379, -122.22590600000001, -118.407379, -58.90725, -118.407379, -118.407379, -121.96241599999999, -122.280022, -121.88579399999999, -71.004817, -122.03095400000001, -1.653616, -68.10434000000001, 32.767540000000004, -121.84198500000001, -119.785734, -122.432556, 51.405190000000005, 2.150913, -121.83734799999999, -121.83734799999999, -111.93741899999999, -94.76535799999999, -117.32806399999998, 13.401851, -66.962128, -122.032133, -118.166974, -122.34811, -118.624627, -91.526534, -1.977903, -5.95621, -118.407379, -122.280022, -79.79470400000001, -118.145775, -69.951164, -118.407379, -118.407379, -118.61481, -76.616104, null, -80.052689, -87.681229, 51.405190000000005, 32.767540000000004, 20.896501999999998, 28.689863, 13.401851, 48.643415999999995, 13.401851, 13.401851, 13.401851, -73.931351, -121.88579399999999, -73.931351, -122.432556, -5.95621, -64.182129, -122.22590600000001, -122.061628, -5.95621, -87.81851999999999, -1.977903, -89.171826, -118.407379, -0.138765, -73.931351, null, -122.17790900000001, -122.644448, 44.846416, -118.407379, -118.10156699999999, -3.6962629999999996, -118.407379, -118.407379, -118.167056, -122.03095400000001, -118.407379, -73.931351, -121.88579399999999, -73.630786, -118.407379, -118.407379, -122.22590600000001, -118.407379, -73.58721899999999, -118.407379, -2.9218189999999997, -73.931351, -118.407379, -1.653616, -121.88579399999999, -118.122896, -118.407379, -118.407379, -71.41199399999999, -117.16171899999999, -5.95621, -5.95621, -2.473289, -3.6962629999999996, 0.625783, -118.141507, -122.443352, -122.003482, -73.931351, 27.373265999999997, -64.182129, -122.08675600000001, 2.150913, -118.394081, -5.95621, -5.95621, -7.5373850000000004, -7.3120449999999995, -73.931351, -5.95621, -5.95621, -79.99745899999999, -5.95621, -84.454564, -84.43208299999999, -72.511495, -81.675461, -73.931351, -74.032814, -73.931351, -73.931351, -73.931351, -73.931351, -73.931351, -73.931351, -73.931351, -73.931351, -74.032814, -74.032814, -74.032814, -74.032814, -74.032814, -73.931351, -73.931351, -3.6962629999999996, -87.499736, -3.6962629999999996, -5.95621, -5.95621, -118.407379, -122.443352, 12.490069, -122.443352, -121.49101399999999, -122.314834, -122.443352, -118.407379, -122.443352, -6.6087869999999995, -5.95621, -83.288425, 104.917445, 104.917445, -84.987629, -80.622003], \"marker\": {\"color\": \"#636efa\"}, \"name\": \"\", \"showlegend\": false, \"type\": \"scattergeo\"}],\n",
              "                        {\"geo\": {\"center\": {}, \"domain\": {\"x\": [0.0, 1.0], \"y\": [0.0, 1.0]}}, \"legend\": {\"tracegroupgap\": 0}, \"margin\": {\"t\": 60}, \"template\": {\"data\": {\"bar\": [{\"error_x\": {\"color\": \"#2a3f5f\"}, \"error_y\": {\"color\": \"#2a3f5f\"}, \"marker\": {\"line\": {\"color\": \"#E5ECF6\", \"width\": 0.5}}, \"type\": \"bar\"}], \"barpolar\": [{\"marker\": {\"line\": {\"color\": \"#E5ECF6\", \"width\": 0.5}}, \"type\": \"barpolar\"}], \"carpet\": [{\"aaxis\": {\"endlinecolor\": \"#2a3f5f\", \"gridcolor\": \"white\", \"linecolor\": \"white\", \"minorgridcolor\": \"white\", \"startlinecolor\": \"#2a3f5f\"}, \"baxis\": {\"endlinecolor\": \"#2a3f5f\", \"gridcolor\": \"white\", \"linecolor\": \"white\", \"minorgridcolor\": \"white\", \"startlinecolor\": \"#2a3f5f\"}, \"type\": \"carpet\"}], \"choropleth\": [{\"colorbar\": {\"outlinewidth\": 0, \"ticks\": \"\"}, \"type\": \"choropleth\"}], \"contour\": [{\"colorbar\": {\"outlinewidth\": 0, \"ticks\": \"\"}, \"colorscale\": [[0.0, \"#0d0887\"], [0.1111111111111111, \"#46039f\"], [0.2222222222222222, \"#7201a8\"], [0.3333333333333333, \"#9c179e\"], [0.4444444444444444, \"#bd3786\"], [0.5555555555555556, \"#d8576b\"], [0.6666666666666666, \"#ed7953\"], [0.7777777777777778, \"#fb9f3a\"], [0.8888888888888888, \"#fdca26\"], [1.0, \"#f0f921\"]], \"type\": \"contour\"}], \"contourcarpet\": [{\"colorbar\": {\"outlinewidth\": 0, \"ticks\": \"\"}, \"type\": \"contourcarpet\"}], \"heatmap\": [{\"colorbar\": {\"outlinewidth\": 0, \"ticks\": \"\"}, \"colorscale\": [[0.0, \"#0d0887\"], [0.1111111111111111, \"#46039f\"], [0.2222222222222222, \"#7201a8\"], [0.3333333333333333, \"#9c179e\"], [0.4444444444444444, \"#bd3786\"], [0.5555555555555556, \"#d8576b\"], [0.6666666666666666, \"#ed7953\"], [0.7777777777777778, \"#fb9f3a\"], [0.8888888888888888, \"#fdca26\"], [1.0, \"#f0f921\"]], \"type\": \"heatmap\"}], \"heatmapgl\": [{\"colorbar\": {\"outlinewidth\": 0, \"ticks\": \"\"}, \"colorscale\": [[0.0, \"#0d0887\"], [0.1111111111111111, \"#46039f\"], [0.2222222222222222, \"#7201a8\"], [0.3333333333333333, \"#9c179e\"], [0.4444444444444444, \"#bd3786\"], [0.5555555555555556, \"#d8576b\"], [0.6666666666666666, \"#ed7953\"], [0.7777777777777778, \"#fb9f3a\"], [0.8888888888888888, \"#fdca26\"], [1.0, \"#f0f921\"]], \"type\": \"heatmapgl\"}], \"histogram\": [{\"marker\": {\"colorbar\": {\"outlinewidth\": 0, \"ticks\": \"\"}}, \"type\": \"histogram\"}], \"histogram2d\": [{\"colorbar\": {\"outlinewidth\": 0, \"ticks\": \"\"}, \"colorscale\": [[0.0, \"#0d0887\"], [0.1111111111111111, \"#46039f\"], [0.2222222222222222, \"#7201a8\"], [0.3333333333333333, \"#9c179e\"], [0.4444444444444444, \"#bd3786\"], [0.5555555555555556, \"#d8576b\"], [0.6666666666666666, \"#ed7953\"], [0.7777777777777778, \"#fb9f3a\"], [0.8888888888888888, \"#fdca26\"], [1.0, \"#f0f921\"]], \"type\": \"histogram2d\"}], \"histogram2dcontour\": [{\"colorbar\": {\"outlinewidth\": 0, \"ticks\": \"\"}, \"colorscale\": [[0.0, \"#0d0887\"], [0.1111111111111111, \"#46039f\"], [0.2222222222222222, \"#7201a8\"], [0.3333333333333333, \"#9c179e\"], [0.4444444444444444, \"#bd3786\"], [0.5555555555555556, \"#d8576b\"], [0.6666666666666666, \"#ed7953\"], [0.7777777777777778, \"#fb9f3a\"], [0.8888888888888888, \"#fdca26\"], [1.0, \"#f0f921\"]], \"type\": \"histogram2dcontour\"}], \"mesh3d\": [{\"colorbar\": {\"outlinewidth\": 0, \"ticks\": \"\"}, \"type\": \"mesh3d\"}], \"parcoords\": [{\"line\": {\"colorbar\": {\"outlinewidth\": 0, \"ticks\": \"\"}}, \"type\": \"parcoords\"}], \"pie\": [{\"automargin\": true, \"type\": \"pie\"}], \"scatter\": [{\"marker\": {\"colorbar\": {\"outlinewidth\": 0, \"ticks\": \"\"}}, \"type\": \"scatter\"}], \"scatter3d\": [{\"line\": {\"colorbar\": {\"outlinewidth\": 0, \"ticks\": \"\"}}, \"marker\": {\"colorbar\": {\"outlinewidth\": 0, \"ticks\": \"\"}}, \"type\": \"scatter3d\"}], \"scattercarpet\": [{\"marker\": {\"colorbar\": {\"outlinewidth\": 0, \"ticks\": \"\"}}, \"type\": \"scattercarpet\"}], \"scattergeo\": [{\"marker\": {\"colorbar\": {\"outlinewidth\": 0, \"ticks\": \"\"}}, \"type\": \"scattergeo\"}], \"scattergl\": [{\"marker\": {\"colorbar\": {\"outlinewidth\": 0, \"ticks\": \"\"}}, \"type\": \"scattergl\"}], \"scattermapbox\": [{\"marker\": {\"colorbar\": {\"outlinewidth\": 0, \"ticks\": \"\"}}, \"type\": \"scattermapbox\"}], \"scatterpolar\": [{\"marker\": {\"colorbar\": {\"outlinewidth\": 0, \"ticks\": \"\"}}, \"type\": \"scatterpolar\"}], \"scatterpolargl\": [{\"marker\": {\"colorbar\": {\"outlinewidth\": 0, \"ticks\": \"\"}}, \"type\": \"scatterpolargl\"}], \"scatterternary\": [{\"marker\": {\"colorbar\": {\"outlinewidth\": 0, \"ticks\": \"\"}}, \"type\": \"scatterternary\"}], \"surface\": [{\"colorbar\": {\"outlinewidth\": 0, \"ticks\": \"\"}, \"colorscale\": [[0.0, \"#0d0887\"], [0.1111111111111111, \"#46039f\"], [0.2222222222222222, \"#7201a8\"], [0.3333333333333333, \"#9c179e\"], [0.4444444444444444, \"#bd3786\"], [0.5555555555555556, \"#d8576b\"], [0.6666666666666666, \"#ed7953\"], [0.7777777777777778, \"#fb9f3a\"], [0.8888888888888888, \"#fdca26\"], [1.0, \"#f0f921\"]], \"type\": \"surface\"}], \"table\": [{\"cells\": {\"fill\": {\"color\": \"#EBF0F8\"}, \"line\": {\"color\": \"white\"}}, \"header\": {\"fill\": {\"color\": \"#C8D4E3\"}, \"line\": {\"color\": \"white\"}}, \"type\": \"table\"}]}, \"layout\": {\"annotationdefaults\": {\"arrowcolor\": \"#2a3f5f\", \"arrowhead\": 0, \"arrowwidth\": 1}, \"coloraxis\": {\"colorbar\": {\"outlinewidth\": 0, \"ticks\": \"\"}}, \"colorscale\": {\"diverging\": [[0, \"#8e0152\"], [0.1, \"#c51b7d\"], [0.2, \"#de77ae\"], [0.3, \"#f1b6da\"], [0.4, \"#fde0ef\"], [0.5, \"#f7f7f7\"], [0.6, \"#e6f5d0\"], [0.7, \"#b8e186\"], [0.8, \"#7fbc41\"], [0.9, \"#4d9221\"], [1, \"#276419\"]], \"sequential\": [[0.0, \"#0d0887\"], [0.1111111111111111, \"#46039f\"], [0.2222222222222222, \"#7201a8\"], [0.3333333333333333, \"#9c179e\"], [0.4444444444444444, \"#bd3786\"], [0.5555555555555556, \"#d8576b\"], [0.6666666666666666, \"#ed7953\"], [0.7777777777777778, \"#fb9f3a\"], [0.8888888888888888, \"#fdca26\"], [1.0, \"#f0f921\"]], \"sequentialminus\": [[0.0, \"#0d0887\"], [0.1111111111111111, \"#46039f\"], [0.2222222222222222, \"#7201a8\"], [0.3333333333333333, \"#9c179e\"], [0.4444444444444444, \"#bd3786\"], [0.5555555555555556, \"#d8576b\"], [0.6666666666666666, \"#ed7953\"], [0.7777777777777778, \"#fb9f3a\"], [0.8888888888888888, \"#fdca26\"], [1.0, \"#f0f921\"]]}, \"colorway\": [\"#636efa\", \"#EF553B\", \"#00cc96\", \"#ab63fa\", \"#FFA15A\", \"#19d3f3\", \"#FF6692\", \"#B6E880\", \"#FF97FF\", \"#FECB52\"], \"font\": {\"color\": \"#2a3f5f\"}, \"geo\": {\"bgcolor\": \"white\", \"lakecolor\": \"white\", \"landcolor\": \"#E5ECF6\", \"showlakes\": true, \"showland\": true, \"subunitcolor\": \"white\"}, \"hoverlabel\": {\"align\": \"left\"}, \"hovermode\": \"closest\", \"mapbox\": {\"style\": \"light\"}, \"paper_bgcolor\": \"white\", \"plot_bgcolor\": \"#E5ECF6\", \"polar\": {\"angularaxis\": {\"gridcolor\": \"white\", \"linecolor\": \"white\", \"ticks\": \"\"}, \"bgcolor\": \"#E5ECF6\", \"radialaxis\": {\"gridcolor\": \"white\", \"linecolor\": \"white\", \"ticks\": \"\"}}, \"scene\": {\"xaxis\": {\"backgroundcolor\": \"#E5ECF6\", \"gridcolor\": \"white\", \"gridwidth\": 2, \"linecolor\": \"white\", \"showbackground\": true, \"ticks\": \"\", \"zerolinecolor\": \"white\"}, \"yaxis\": {\"backgroundcolor\": \"#E5ECF6\", \"gridcolor\": \"white\", \"gridwidth\": 2, \"linecolor\": \"white\", \"showbackground\": true, \"ticks\": \"\", \"zerolinecolor\": \"white\"}, \"zaxis\": {\"backgroundcolor\": \"#E5ECF6\", \"gridcolor\": \"white\", \"gridwidth\": 2, \"linecolor\": \"white\", \"showbackground\": true, \"ticks\": \"\", \"zerolinecolor\": \"white\"}}, \"shapedefaults\": {\"line\": {\"color\": \"#2a3f5f\"}}, \"ternary\": {\"aaxis\": {\"gridcolor\": \"white\", \"linecolor\": \"white\", \"ticks\": \"\"}, \"baxis\": {\"gridcolor\": \"white\", \"linecolor\": \"white\", \"ticks\": \"\"}, \"bgcolor\": \"#E5ECF6\", \"caxis\": {\"gridcolor\": \"white\", \"linecolor\": \"white\", \"ticks\": \"\"}}, \"title\": {\"x\": 0.05}, \"xaxis\": {\"automargin\": true, \"gridcolor\": \"white\", \"linecolor\": \"white\", \"ticks\": \"\", \"title\": {\"standoff\": 15}, \"zerolinecolor\": \"white\", \"zerolinewidth\": 2}, \"yaxis\": {\"automargin\": true, \"gridcolor\": \"white\", \"linecolor\": \"white\", \"ticks\": \"\", \"title\": {\"standoff\": 15}, \"zerolinecolor\": \"white\", \"zerolinewidth\": 2}}}},\n",
              "                        {\"responsive\": true}\n",
              "                    ).then(function(){\n",
              "                            \n",
              "var gd = document.getElementById('3c7e56f0-4c66-4d91-a99d-32c1ac459c4d');\n",
              "var x = new MutationObserver(function (mutations, observer) {{\n",
              "        var display = window.getComputedStyle(gd).display;\n",
              "        if (!display || display === 'none') {{\n",
              "            console.log([gd, 'removed!']);\n",
              "            Plotly.purge(gd);\n",
              "            observer.disconnect();\n",
              "        }}\n",
              "}});\n",
              "\n",
              "// Listen for the removal of the full notebook cells\n",
              "var notebookContainer = gd.closest('#notebook-container');\n",
              "if (notebookContainer) {{\n",
              "    x.observe(notebookContainer, {childList: true});\n",
              "}}\n",
              "\n",
              "// Listen for the clearing of the current output cell\n",
              "var outputEl = gd.closest('.output');\n",
              "if (outputEl) {{\n",
              "    x.observe(outputEl, {childList: true});\n",
              "}}\n",
              "\n",
              "                        })\n",
              "                };\n",
              "                \n",
              "            </script>\n",
              "        </div>\n",
              "</body>\n",
              "</html>"
            ]
          },
          "metadata": {
            "tags": []
          }
        }
      ]
    },
    {
      "cell_type": "code",
      "metadata": {
        "id": "pMT57ZQKnvrG"
      },
      "source": [
        ""
      ],
      "execution_count": 12,
      "outputs": []
    }
  ]
}